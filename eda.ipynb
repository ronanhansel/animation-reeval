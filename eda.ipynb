{
 "cells": [
  {
   "cell_type": "code",
   "execution_count": 8,
   "id": "7af02620",
   "metadata": {},
   "outputs": [],
   "source": [
    "import pandas as pd\n",
    "import numpy as np"
   ]
  },
  {
   "cell_type": "code",
   "execution_count": 9,
   "id": "b36c340e",
   "metadata": {},
   "outputs": [],
   "source": [
    "df = pd.read_pickle(\"data/resmat.pkl\")"
   ]
  },
  {
   "cell_type": "code",
   "execution_count": 10,
   "id": "d2238f72",
   "metadata": {},
   "outputs": [
    {
     "name": "stdout",
     "output_type": "stream",
     "text": [
      "<class 'pandas.core.frame.DataFrame'>\n",
      "CategoricalIndex: 183 entries, together/t0pp to google/gemini-1.5-pro-001-safety-block-none\n",
      "Columns: 78712 entries, ('A bakery makes exactly three kinds of cookie—oatmeal, peanut butter, and sugar. Exactly three batches of each kind of cookie are made each week (Monday through Friday) and each batch is made, from start to finish, on a single day. The following conditions apply: No two batches of the same kind of cookie are made on the same day. At least one batch of cookies is made on Monday. The second batch of oatmeal cookies is made on the same day as the first batch of peanut butter cookies. The second batch of sugar cookies is made on Thursday.\\nQuestion: How many of the days, Monday through Friday, are such that at most two batches of cookies could be made on that day?', 'lsat_qa', 'classic') to ('yuo\\'d  probably get something   like   this.   i\\'m translating  movies   for   a  living and  this  is  teh   first   movie  in my  5-year   working   experience  thta i  found offensive  to my   intelligence.  of course,  there   are   stupid  hollywood movies  about  drunken teenagers   on   a  spring  break,  but  those movies don\\'t   even  claim to  be serious works  of  art.  but when  someone strives  for  greatness  and  peotry,  but  delivers a   muddled (and  often ridiculous)   story,  a bunch   of   disparate   scenes, pretentious dialogue...  then you   get the   worst kind of   a movie  that some   other  reviewer very   accurately  defined   as   \"pretentious crap\".  to thsoe   who   find this movie intelligent or even   masterful,   i can only   say   -   it\\'s your  intelligence  and your  imagination you   obviously   used   to try  and   make  some sense  of this   pitiful  attempt  (it\\'s   in   our  human  nature   to   try   and   make   sense   of  things)  .<br   /><br   />one   more   thing: i can tolerate   political incorrectness  very  well, i\\'m all for   artistic  freedom  and  suspension  of  disbelief,   but  ther  slavic female  character  was just   too  much. i   wish  someone  told the director  that   it\\'s kind of  ridiculous   (even in an  unrealistic   art   movie)  to  portray a  slavic woman as   a  half-articulate   dishevelled   creature   connected  to   the forces   of   nature, probably due  to   the   fact that  she  had   spent her  entire childhood   looking  at  ther stars   and milking cows   on a threee-legged  stool.', 'imdb', 'classic')\n",
      "dtypes: float64(78712)\n",
      "memory usage: 109.9 MB\n"
     ]
    },
    {
     "data": {
      "text/plain": [
       "(183, 78712)"
      ]
     },
     "execution_count": 10,
     "metadata": {},
     "output_type": "execute_result"
    }
   ],
   "source": [
    "df.info()\n",
    "df.shape # (test-takers, ['input.text', 'scenario', 'benchmark'])"
   ]
  },
  {
   "cell_type": "code",
   "execution_count": null,
   "id": "6fe95a69",
   "metadata": {},
   "outputs": [
    {
     "name": "stdout",
     "output_type": "stream",
     "text": [
      "Loading DataFrame...\n",
      "Truncating matrix...\n",
      "Matrix truncated and saved to data/resmat_trunc.npy\n"
     ]
    }
   ],
   "source": [
    "# Load the DataFrame\n",
    "print(\"Loading DataFrame...\")\n",
    "df = pd.read_pickle(\"data/resmat.pkl\")\n",
    "# Assume the response matrix is in df['response'] or similar\n",
    "# If not, adjust this line to get the actual response matrix\n",
    "# For example, if df itself is the matrix, use: matrix = df.values\n",
    "matrix = df.values  # shape: (183, 78712)\n",
    "\n",
    "print(\"Truncating matrix...\")\n",
    "\n",
    "# Truncate to first 50 and last 50 questions and first 25 test takers\n",
    "matrix_trunc = np.concatenate([matrix[:25, :35], matrix[-25:, -35:]], axis=1)\n",
    "# Export truncated matrix\n",
    "np.save(\"data/resmat_trunc.npy\", matrix_trunc)\n",
    "print(\"Matrix truncated and saved to data/resmat_trunc.npy\")\n"
   ]
  },
  {
   "cell_type": "code",
   "execution_count": 12,
   "id": "4b188068",
   "metadata": {},
   "outputs": [
    {
     "name": "stdout",
     "output_type": "stream",
     "text": [
      "(25, 70)\n"
     ]
    }
   ],
   "source": [
    "import numpy as np\n",
    "\n",
    "matrix = np.load(\"data/resmat_trunc.npy\")\n",
    "\n",
    "print(matrix.shape)"
   ]
  }
 ],
 "metadata": {
  "kernelspec": {
   "display_name": "reeval",
   "language": "python",
   "name": "python3"
  },
  "language_info": {
   "codemirror_mode": {
    "name": "ipython",
    "version": 3
   },
   "file_extension": ".py",
   "mimetype": "text/x-python",
   "name": "python",
   "nbconvert_exporter": "python",
   "pygments_lexer": "ipython3",
   "version": "3.10.18"
  }
 },
 "nbformat": 4,
 "nbformat_minor": 5
}
